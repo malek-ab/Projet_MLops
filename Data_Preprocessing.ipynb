{
 "cells": [
  {
   "cell_type": "code",
   "execution_count": 1,
   "metadata": {
    "id": "pXk--x-wKj2s"
   },
   "outputs": [],
   "source": [
    "import pandas as pd\n",
    "import numpy as np\n",
    "from sklearn.model_selection import train_test_split\n",
    "from sklearn.preprocessing import StandardScaler\n",
    "from sklearn.impute import SimpleImputer"
   ]
  },
  {
   "cell_type": "code",
   "execution_count": 2,
   "metadata": {
    "id": "KCqW0UOFLTjm"
   },
   "outputs": [],
   "source": [
    "df = pd.read_csv(\"resale-flat-prices-2022-jan.csv\")"
   ]
  },
  {
   "cell_type": "code",
   "execution_count": null,
   "metadata": {},
   "outputs": [],
   "source": [
    "\"\"\"\" \n",
    "1/ Séparation des colonnes :\n",
    "numeric_columns : contient les colonnes numériques uniquement.\n",
    "- non_numeric_columns : contient les colonnes non numériques (catégoriques, dates, etc.).\n",
    "\n",
    "2/ Imputation des valeurs manquantes :\n",
    "\n",
    "- Appliquez l'imputation avec la moyenne uniquement sur les colonnes numériques.\n",
    "- Les colonnes non numériques sont conservées sans modification à ce stade.\n",
    "\n",
    "3/ Fusion des colonnes :\n",
    "\n",
    "Après traitement, combinez les colonnes numériques et non numériques en un seul DataFrame.\"\"\"\""
   ]
  },
  {
   "cell_type": "code",
   "execution_count": null,
   "metadata": {
    "colab": {
     "base_uri": "https://localhost:8080/"
    },
    "id": "2NaZnttcLU7j",
    "outputId": "d9c7ca52-2074-468d-f892-5da660a22151"
   },
   "outputs": [
    {
     "name": "stdout",
     "output_type": "stream",
     "text": [
      "\n",
      "Nombre de valeurs manquantes après imputation:\n",
      "floor_area_sqm         0\n",
      "lease_commence_date    0\n",
      "resale_price           0\n",
      "month                  0\n",
      "town                   0\n",
      "flat_type              0\n",
      "block                  0\n",
      "street_name            0\n",
      "storey_range           0\n",
      "flat_model             0\n",
      "remaining_lease        0\n",
      "dtype: int64\n"
     ]
    }
   ],
   "source": [
    "# Traitement des valeurs manquantes\n",
    "\n",
    "# Identifier les colonnes numériques et non numériques\n",
    "numeric_columns = df.select_dtypes(include=['number']).columns\n",
    "non_numeric_columns = df.select_dtypes(exclude=['number']).columns\n",
    "\n",
    "# Appliquer SimpleImputer uniquement sur les colonnes numériques\n",
    "imputer = SimpleImputer(strategy=\"mean\")  # Remplacer les valeurs manquantes par la moyenne\n",
    "df_numeric = pd.DataFrame(imputer.fit_transform(df[numeric_columns]), columns=numeric_columns)\n",
    "\n",
    "# Conserver les colonnes non numériques telles quelles pour l'instant\n",
    "df_non_numeric = df[non_numeric_columns].copy()\n",
    "\n",
    "# Combiner les deux parties\n",
    "df_imputed = pd.concat([df_numeric, df_non_numeric], axis=1)\n",
    "\n",
    "# Vérification que les valeurs manquantes ont été traitées\n",
    "print(\"\\nNombre de valeurs manquantes après imputation:\")\n",
    "print(df_imputed.isnull().sum())\n"
   ]
  },
  {
   "cell_type": "markdown",
   "metadata": {
    "id": "drswJHPWNqr3"
   },
   "source": []
  },
  {
   "cell_type": "code",
   "execution_count": null,
   "metadata": {},
   "outputs": [],
   "source": [
    "\"\"\"1/ Transformation des variables catégorielles :\n",
    "\n",
    "- Encodez les colonnes catégorielles avec des techniques comme pd.get_dummies.\n",
    "\n",
    "- Convertir les variables catégorielles en numériques permet aux algorithmes de machine learning de les interpréter.\n",
    "\n",
    "# 2/ Transformation des colonnes de date :\n",
    "\n",
    "Extraire des informations utiles (année, mois, jour) à partir de la colonne lease_commence_date.\n",
    "\n",
    "# 3/ Standardisation des colonnes numériques :\n",
    "\n",
    "- La standardisation met les valeurs des colonnes numériques à une échelle commune, en particulier pour que les grandes valeurs ne dominent pas les petites dans les calculs des modèles.\n",
    "\n",
    "- Appliquez la standardisation (avec StandardScaler) sur les colonnes numériques pour améliorer la convergence des modèles.\n",
    "\n",
    "- Scalage des variables numériques :\n",
    "\n",
    "Standardiser les colonnes numériques pour les amener sur une même échelle, assurant ainsi que chaque variable contribue de manière égale à l'analyse.\"\"\""
   ]
  },
  {
   "cell_type": "code",
   "execution_count": 4,
   "metadata": {
    "colab": {
     "base_uri": "https://localhost:8080/"
    },
    "id": "h1nfcq5gLeN9",
    "outputId": "6b1a84dd-0b7f-4ce8-9a03-9f317b602694"
   },
   "outputs": [
    {
     "name": "stdout",
     "output_type": "stream",
     "text": [
      "Colonnes du dataset :\n",
      "Index(['month', 'town', 'flat_type', 'block', 'street_name', 'storey_range',\n",
      "       'floor_area_sqm', 'flat_model', 'lease_commence_date',\n",
      "       'remaining_lease', 'resale_price'],\n",
      "      dtype='object')\n"
     ]
    }
   ],
   "source": [
    "# 1. Vérification des colonnes disponibles\n",
    "print(\"Colonnes du dataset :\")\n",
    "print(df.columns)"
   ]
  },
  {
   "cell_type": "code",
   "execution_count": 5,
   "metadata": {
    "colab": {
     "base_uri": "https://localhost:8080/"
    },
    "id": "XNwfXi4fPFUU",
    "outputId": "174e6adc-3223-4b80-e0ca-cdab891f277b"
   },
   "outputs": [
    {
     "name": "stdout",
     "output_type": "stream",
     "text": [
      "Colonnes catégorielles avant transformation :\n",
      "['month', 'town', 'flat_type', 'block', 'street_name', 'storey_range', 'flat_model', 'remaining_lease']\n",
      "\n",
      "Colonnes après transformation (dummies) :\n",
      "['floor_area_sqm', 'lease_commence_date', 'resale_price', 'remaining_lease', 'town_BEDOK', 'town_BISHAN', 'town_BUKIT BATOK', 'town_BUKIT MERAH', 'town_BUKIT PANJANG', 'town_BUKIT TIMAH', 'town_CENTRAL AREA', 'town_CHOA CHU KANG', 'town_CLEMENTI', 'town_GEYLANG', 'town_HOUGANG', 'town_JURONG EAST', 'town_JURONG WEST', 'town_KALLANG/WHAMPOA', 'town_MARINE PARADE', 'town_PASIR RIS', 'town_PUNGGOL', 'town_QUEENSTOWN', 'town_SEMBAWANG', 'town_SENGKANG', 'town_SERANGOON', 'town_TAMPINES', 'town_TOA PAYOH', 'town_WOODLANDS', 'town_YISHUN', 'flat_type_3 ROOM', 'flat_type_4 ROOM', 'flat_type_5 ROOM', 'flat_type_EXECUTIVE', 'flat_type_MULTI-GENERATION', 'block_10', 'block_100', 'block_101', 'block_101A', 'block_101C', 'block_101D', 'block_102', 'block_102D', 'block_103', 'block_104', 'block_104B', 'block_105', 'block_105A', 'block_105D', 'block_106', 'block_106C', 'block_107', 'block_107A', 'block_107D', 'block_108', 'block_108C', 'block_109', 'block_10A', 'block_10B', 'block_10F', 'block_11', 'block_110', 'block_111', 'block_112', 'block_113', 'block_113A', 'block_113B', 'block_113C', 'block_113D', 'block_114', 'block_115', 'block_116', 'block_116A', 'block_116B', 'block_117', 'block_117A', 'block_117C', 'block_118', 'block_118B', 'block_118C', 'block_118D', 'block_119', 'block_119B', 'block_119C', 'block_12', 'block_120', 'block_120A', 'block_120B', 'block_121', 'block_121B', 'block_121C', 'block_121D', 'block_122', 'block_122A', 'block_122C', 'block_122D', 'block_122E', 'block_123', 'block_123D', 'block_124', 'block_124B', 'block_125', 'block_126', 'block_126C', 'block_127', 'block_127C', 'block_128', 'block_128A', 'block_129', 'block_12A', 'block_12B', 'block_12C', 'block_13', 'block_130', 'block_131', 'block_132', 'block_133', 'block_134', 'block_135', 'block_138', 'block_138A', 'block_138B', 'block_138C', 'block_139', 'block_139A', 'block_14', 'block_140', 'block_141', 'block_142', 'block_143', 'block_144', 'block_145', 'block_146', 'block_147', 'block_149', 'block_14A', 'block_15', 'block_151', 'block_152', 'block_153', 'block_154', 'block_155', 'block_156', 'block_157', 'block_157A', 'block_158', 'block_159', 'block_16', 'block_160', 'block_160A', 'block_160B', 'block_161', 'block_162', 'block_162A', 'block_162B', 'block_162C', 'block_163', 'block_163A', 'block_163B', 'block_163C', 'block_164', 'block_164A', 'block_165', 'block_165B', 'block_166', 'block_166A', 'block_167', 'block_167B', 'block_168A', 'block_168C', 'block_169', 'block_17', 'block_170', 'block_170A', 'block_171A', 'block_172', 'block_173', 'block_173C', 'block_174', 'block_174C', 'block_175A', 'block_176', 'block_176A', 'block_176B', 'block_177', 'block_178', 'block_178B', 'block_179', 'block_17B', 'block_18', 'block_180', 'block_180A', 'block_180B', 'block_180C', 'block_181', 'block_181B', 'block_182', 'block_183', 'block_183B', 'block_183C', 'block_184', 'block_185', 'block_185D', 'block_186', 'block_186A', 'block_187', 'block_188', 'block_189', 'block_189A', 'block_18C', 'block_19', 'block_190B', 'block_192', 'block_193', 'block_194', 'block_194A', 'block_194B', 'block_195', 'block_195D', 'block_196A', 'block_197', 'block_197B', 'block_197C', 'block_199', 'block_1A', 'block_1C', 'block_1D', 'block_1E', 'block_2', 'block_20', 'block_201B', 'block_201C', 'block_201D', 'block_202', 'block_202B', 'block_203', 'block_203B', 'block_203C', 'block_203D', 'block_204', 'block_204D', 'block_205', 'block_206', 'block_207', 'block_207A', 'block_207C', 'block_208', 'block_208A', 'block_208B', 'block_209', 'block_209A', 'block_209C', 'block_21', 'block_210A', 'block_210C', 'block_211', 'block_211A', 'block_211B', 'block_211C', 'block_211D', 'block_212', 'block_212B', 'block_212C', 'block_213', 'block_213A', 'block_213C', 'block_214', 'block_215', 'block_215A', 'block_215B', 'block_216', 'block_216A', 'block_216B', 'block_216D', 'block_217', 'block_217A', 'block_217B', 'block_217C', 'block_218', 'block_219', 'block_22', 'block_220A', 'block_221', 'block_221C', 'block_222', 'block_223', 'block_224', 'block_225', 'block_226', 'block_226A', 'block_226B', 'block_227', 'block_228', 'block_229', 'block_23', 'block_230', 'block_230B', 'block_230J', 'block_231', 'block_232', 'block_232A', 'block_233', 'block_234', 'block_235', 'block_236', 'block_237', 'block_238', 'block_23B', 'block_24', 'block_240', 'block_241', 'block_242', 'block_243', 'block_244', 'block_245', 'block_246', 'block_247', 'block_248', 'block_25', 'block_250', 'block_251', 'block_252', 'block_254', 'block_256', 'block_256B', 'block_256C', 'block_256D', 'block_257', 'block_258', 'block_258A', 'block_258B', 'block_258C', 'block_258D', 'block_259', 'block_259A', 'block_259B', 'block_259C', 'block_25B', 'block_26', 'block_260', 'block_260A', 'block_260B', 'block_260C', 'block_261', 'block_261A', 'block_262', 'block_264A', 'block_265', 'block_265B', 'block_265D', 'block_266', 'block_266A', 'block_267', 'block_267A', 'block_267B', 'block_268', 'block_268A', 'block_268B', 'block_268C', 'block_269', 'block_269A', 'block_269B', 'block_269C', 'block_269D', 'block_27', 'block_270', 'block_270A', 'block_271', 'block_271C', 'block_272', 'block_272B', 'block_272C', 'block_272D', 'block_273', 'block_273A', 'block_273C', 'block_273D', 'block_274', 'block_274A', 'block_274B', 'block_274C', 'block_275', 'block_275A', 'block_276A', 'block_277A', 'block_278', 'block_278B', 'block_278C', 'block_27A', 'block_28', 'block_280', 'block_281', 'block_281A', 'block_282', 'block_282B', 'block_282C', 'block_283', 'block_284', 'block_285', 'block_286', 'block_286B', 'block_286C', 'block_287', 'block_287A', 'block_287C', 'block_288', 'block_288A', 'block_288C', 'block_288E', 'block_288G', 'block_289', 'block_289A', 'block_289B', 'block_289C', 'block_289F', 'block_289G', 'block_28B', 'block_28C', 'block_28D', 'block_29', 'block_290A', 'block_290D', 'block_290F', 'block_291C', 'block_291D', 'block_293', 'block_293A', 'block_293B', 'block_293C', 'block_293D', 'block_294A', 'block_295', 'block_295A', 'block_296', 'block_296A', 'block_296B', 'block_296C', 'block_297', 'block_297A', 'block_297C', 'block_298', 'block_298D', 'block_299', 'block_299A', 'block_2D', 'block_3', 'block_30', 'block_301', 'block_301D', 'block_302', 'block_302A', 'block_302B', 'block_303', 'block_303D', 'block_304', 'block_305', 'block_306', 'block_306B', 'block_306D', 'block_307', 'block_307A', 'block_308', 'block_308A', 'block_308B', 'block_308C', 'block_309A', 'block_309D', 'block_310', 'block_310A', 'block_310B', 'block_310C', 'block_311', 'block_311B', 'block_311C', 'block_312A', 'block_312B', 'block_312C', 'block_313', 'block_313A', 'block_313C', 'block_314', 'block_314B', 'block_315', 'block_315A', 'block_315B', 'block_316', 'block_316A', 'block_316B', 'block_316D', 'block_317', 'block_317A', 'block_317D', 'block_318', 'block_318A', 'block_318B', 'block_319', 'block_319C', 'block_32', 'block_320', 'block_321', 'block_321B', 'block_322', 'block_322A', 'block_323', 'block_323B', 'block_324', 'block_325', 'block_326', 'block_326B', 'block_326C', 'block_326D', 'block_327', 'block_329', 'block_329A', 'block_329B', 'block_33', 'block_331', 'block_331A', 'block_331C', 'block_332', 'block_333', 'block_333A', 'block_333B', 'block_334', 'block_334A', 'block_334B', 'block_334D', 'block_335', 'block_336', 'block_336B', 'block_337', 'block_337A', 'block_337B', 'block_338', 'block_339', 'block_339A', 'block_339D', 'block_34', 'block_340', 'block_340A', 'block_341', 'block_342A', 'block_342B', 'block_342C', 'block_343', 'block_345', 'block_346', 'block_347', 'block_348', 'block_348A', 'block_348B', 'block_348C', 'block_348D', 'block_349', 'block_35', 'block_350', 'block_351', 'block_351A', 'block_351C', 'block_352B', 'block_353', 'block_353A', 'block_353B', 'block_354', 'block_354C', 'block_355', 'block_356B', 'block_357', 'block_358', 'block_359', 'block_359A', 'block_36', 'block_360C', 'block_361', 'block_362', 'block_364', 'block_364A', 'block_364B', 'block_365', 'block_365A', 'block_365B', 'block_365C', 'block_365D', 'block_366', 'block_367A', 'block_368', 'block_369', 'block_37', 'block_370', 'block_371', 'block_372', 'block_373', 'block_376C', 'block_38', 'block_383', 'block_386', 'block_388', 'block_389', 'block_38D', 'block_39', 'block_391', 'block_392', 'block_394', 'block_396', 'block_39A', 'block_4', 'block_40', 'block_401', 'block_402', 'block_403', 'block_403A', 'block_404', 'block_405', 'block_406C', 'block_407', 'block_408', 'block_408B', 'block_408C', 'block_409', 'block_409A', 'block_409B', 'block_41', 'block_410', 'block_410A', 'block_410C', 'block_411', 'block_412B', 'block_413', 'block_414B', 'block_415', 'block_416', 'block_416A', 'block_416C', 'block_417', 'block_418', 'block_419', 'block_42', 'block_420', 'block_421', 'block_422', 'block_423', 'block_424', 'block_424A', 'block_425', 'block_426', 'block_426A', 'block_426B', 'block_426C', 'block_426D', 'block_427', 'block_428', 'block_428B', 'block_429', 'block_43', 'block_430', 'block_430A', 'block_430D', 'block_431', 'block_431A', 'block_432', 'block_432A', 'block_432C', 'block_433', 'block_433B', 'block_434', 'block_434B', 'block_435', 'block_435C', 'block_436', 'block_436A', 'block_436C', 'block_437', 'block_438', 'block_438B', 'block_439', 'block_44', 'block_440A', 'block_441', 'block_442', 'block_442B', 'block_442C', 'block_443', 'block_443A', 'block_443B', 'block_443D', 'block_444', 'block_445', 'block_445B', 'block_446', 'block_448', 'block_448A', 'block_449', 'block_45', 'block_451', 'block_451A', 'block_452', 'block_453', 'block_453A', 'block_453B', 'block_454', 'block_455', 'block_456', 'block_457', 'block_458', 'block_459', 'block_46', 'block_460', 'block_461', 'block_462', 'block_463A', 'block_463B', 'block_463C', 'block_464', 'block_465', 'block_466', 'block_466B', 'block_467', 'block_467A', 'block_467B', 'block_468', 'block_468C', 'block_469B', 'block_469C', 'block_47', 'block_470A', 'block_470B', 'block_471', 'block_471B', 'block_472', 'block_472B', 'block_472C', 'block_473A', 'block_473B', 'block_473C', 'block_473D', 'block_474', 'block_475', 'block_475D', 'block_476', 'block_476A', 'block_476B', 'block_476C', 'block_476D', 'block_477A', 'block_477B', 'block_477C', 'block_479', 'block_48', 'block_480', 'block_481', 'block_482', 'block_484', 'block_484A', 'block_485', 'block_486', 'block_487', 'block_488C', 'block_488D', 'block_489A', 'block_489D', 'block_48A', 'block_49', 'block_490', 'block_490C', 'block_490D', 'block_491', 'block_493', 'block_493B', 'block_493C', 'block_496B', 'block_5', 'block_50', 'block_501', 'block_501A', 'block_501B', 'block_502', 'block_502A', 'block_502B', 'block_502D', 'block_503', 'block_503B', 'block_504', 'block_504C', 'block_504D', 'block_505', 'block_505C', 'block_505D', 'block_506', 'block_506B', 'block_506C', 'block_507', 'block_507A', 'block_507B', 'block_508', 'block_508A', 'block_509', 'block_509B', 'block_51', 'block_510', 'block_510A', 'block_511', 'block_511A', 'block_511B', 'block_512B', 'block_512C', 'block_514', 'block_515', 'block_515C', 'block_517', 'block_519A', 'block_519B', 'block_52', 'block_520', 'block_520A', 'block_520C', 'block_521', 'block_522', 'block_522B', 'block_523', 'block_523B', 'block_523C', 'block_524C', 'block_525', 'block_525A', 'block_526', 'block_526D', 'block_527', 'block_527A', 'block_527B', 'block_527C', 'block_527D', 'block_528A', 'block_529', 'block_53', 'block_530', 'block_530C', 'block_530D', 'block_531', 'block_532', 'block_534', 'block_535', 'block_536', 'block_537', 'block_539', 'block_54', 'block_540', 'block_541', 'block_542', 'block_543', 'block_545', 'block_546', 'block_546B', 'block_546C', 'block_547', 'block_547C', 'block_548', 'block_548B', 'block_549', 'block_549B', 'block_55', 'block_550', 'block_551', 'block_553', 'block_554', 'block_555', 'block_556', 'block_557', 'block_559', 'block_560', 'block_561', 'block_564', 'block_565', 'block_568', 'block_569', 'block_57', 'block_572', 'block_573', 'block_574', 'block_575', 'block_576', 'block_577', 'block_578', 'block_58', 'block_584', 'block_585', 'block_588A', 'block_588B', 'block_588C', 'block_59', 'block_590A', 'block_590C', 'block_591A', 'block_593A', 'block_596D', 'block_6', 'block_60', 'block_601', 'block_602', 'block_603', 'block_603B', 'block_604', 'block_604B', 'block_605', 'block_606', 'block_607', 'block_609', 'block_610', 'block_611', 'block_612B', 'block_613', 'block_613B', 'block_613C', 'block_613D', 'block_614', 'block_614B', 'block_615', 'block_617', 'block_617D', 'block_618', 'block_618D', 'block_619', 'block_619C', 'block_61B', 'block_61C', 'block_62', 'block_621', 'block_622', 'block_622B', 'block_623', 'block_623A', 'block_624', 'block_624B', 'block_625', 'block_626', 'block_627', 'block_628', 'block_629', 'block_62A', 'block_63', 'block_630', 'block_631', 'block_632', 'block_632A', 'block_633', 'block_633B', 'block_633C', 'block_633D', 'block_634', 'block_635', 'block_635A', 'block_635B', 'block_636', 'block_636A', 'block_636C', 'block_637', 'block_638', 'block_639', 'block_64', 'block_640', 'block_640A', 'block_641', 'block_641A', 'block_642', 'block_643', 'block_644', 'block_645', 'block_646', 'block_647', 'block_648', 'block_648C', 'block_649', 'block_649B', 'block_65', 'block_650', 'block_650A', 'block_651', 'block_652', 'block_652C', 'block_653', 'block_654', 'block_654B', 'block_654C', 'block_655', 'block_655B', 'block_656A', 'block_660', 'block_660B', 'block_661', 'block_661B', 'block_661C', 'block_662', 'block_662D', 'block_663', 'block_663A', 'block_663B', 'block_663C', 'block_664A', 'block_664B', 'block_665', 'block_666', 'block_666A', 'block_666B', 'block_667A', 'block_667B', 'block_668A', 'block_668B', 'block_668D', 'block_669B', 'block_67', 'block_670A', 'block_670B', 'block_671A', 'block_671B', 'block_672A', 'block_672B', 'block_672D', 'block_673', 'block_673A', 'block_673B', 'block_673C', 'block_674B', 'block_676A', 'block_676C', 'block_677', 'block_678', 'block_678A', 'block_678C', 'block_679', 'block_679A', 'block_679C', 'block_68', 'block_680', 'block_681', 'block_681D', 'block_682', 'block_682B', 'block_683A', 'block_683B', 'block_683D', 'block_684A', 'block_684C', 'block_684D', 'block_685', 'block_685A', 'block_685C', 'block_686', 'block_686B', 'block_686C', 'block_686D', 'block_687C', 'block_688', 'block_688B', 'block_688E', 'block_689A', 'block_69', 'block_690', 'block_690A', 'block_690B', 'block_690C', 'block_690D', 'block_691A', 'block_692B', 'block_694', 'block_697A', 'block_697B', 'block_698A', 'block_698B', 'block_699', 'block_699C', 'block_6B', 'block_7', 'block_70', 'block_701', 'block_702', 'block_703', 'block_704', 'block_706', 'block_707', 'block_708', 'block_709', 'block_70A', 'block_70C', 'block_71', 'block_711', 'block_712', 'block_713', 'block_715', 'block_716', 'block_717', 'block_717A', 'block_717B', 'block_718', 'block_719', 'block_72', 'block_720', 'block_721', 'block_723', 'block_724', 'block_725', 'block_726', 'block_728', 'block_729', 'block_730', 'block_731', 'block_734', 'block_736', 'block_739', 'block_74', 'block_741', 'block_742', 'block_743', 'block_745', 'block_747B', 'block_747C', 'block_748', 'block_748C', 'block_749', 'block_75', 'block_750', 'block_752', 'block_754', 'block_755', 'block_756', 'block_76', 'block_760', 'block_761', 'block_762', 'block_766', 'block_767', 'block_768', 'block_769', 'block_77', 'block_770', 'block_772', 'block_777', 'block_779', 'block_780', 'block_780A', 'block_780B', 'block_780C', 'block_780E', 'block_780F', 'block_782D', 'block_782E', 'block_787C', 'block_787E', 'block_798', 'block_79D', 'block_79E', 'block_8', 'block_801A', 'block_801D', 'block_802B', 'block_802C', 'block_803B', 'block_803D', 'block_804', 'block_804B', 'block_805', 'block_805C', 'block_806', 'block_807B', 'block_807C', 'block_808A', 'block_808C', 'block_808D', 'block_809', 'block_809A', 'block_811A', 'block_811B', 'block_812A', 'block_812B', 'block_812C', 'block_813', 'block_813A', 'block_814', 'block_815', 'block_815A', 'block_815C', 'block_816A', 'block_816B', 'block_817', 'block_817A', 'block_817B', 'block_817C', 'block_818', 'block_818A', 'block_818B', 'block_818C', 'block_819', 'block_81B', 'block_821', 'block_824', 'block_825', 'block_826', 'block_827', 'block_82B', 'block_83', 'block_830A', 'block_833', 'block_837', 'block_838', 'block_840', 'block_843', 'block_845', 'block_846', 'block_848', 'block_853', 'block_85B', 'block_85C', 'block_86', 'block_860', 'block_861', 'block_862', 'block_863', 'block_864A', 'block_867', 'block_868', 'block_868B', 'block_869', 'block_87', 'block_870', 'block_870A', 'block_871', 'block_875', 'block_877', 'block_878A', 'block_879', 'block_879A', 'block_879B', 'block_88', 'block_880A', 'block_881', 'block_886B', 'block_888', 'block_889A', 'block_889B', 'block_889D', 'block_89', 'block_890A', 'block_890B', 'block_893', 'block_896', 'block_896B', 'block_897A', 'block_899A', 'block_899B', 'block_8A', 'block_8C', 'block_9', 'block_90', 'block_902', 'block_905', 'block_908', 'block_909', 'block_91', 'block_910', 'block_912', 'block_914', 'block_916', 'block_918', 'block_922', 'block_925', 'block_926', 'block_927', 'block_928', 'block_93', 'block_931', 'block_932A', 'block_932B', 'block_933A', 'block_934', 'block_939', 'block_940', 'block_942', 'block_947', 'block_95', 'block_95C', 'block_96', 'block_960', 'block_96B', 'block_97', 'block_972', 'block_975', 'block_98', 'block_980B', 'block_981B', 'block_981C', 'block_986A', 'block_987D', 'block_99', 'street_name_ADMIRALTY LINK', 'street_name_ALJUNIED CRES', 'street_name_ANCHORVALE CRES', 'street_name_ANCHORVALE DR', 'street_name_ANCHORVALE LANE', 'street_name_ANCHORVALE LINK', 'street_name_ANCHORVALE RD', 'street_name_ANCHORVALE ST', 'street_name_ANG MO KIO AVE 1', 'street_name_ANG MO KIO AVE 10', 'street_name_ANG MO KIO AVE 3', 'street_name_ANG MO KIO AVE 4', 'street_name_ANG MO KIO AVE 5', 'street_name_ANG MO KIO AVE 6', 'street_name_ANG MO KIO AVE 8', 'street_name_ANG MO KIO AVE 9', 'street_name_ANG MO KIO ST 21', 'street_name_ANG MO KIO ST 31', 'street_name_ANG MO KIO ST 32', 'street_name_ANG MO KIO ST 52', 'street_name_BALAM RD', 'street_name_BEDOK CTRL', 'street_name_BEDOK NTH AVE 1', 'street_name_BEDOK NTH AVE 2', 'street_name_BEDOK NTH AVE 3', 'street_name_BEDOK NTH AVE 4', 'street_name_BEDOK NTH RD', 'street_name_BEDOK NTH ST 1', 'street_name_BEDOK NTH ST 2', 'street_name_BEDOK NTH ST 3', 'street_name_BEDOK NTH ST 4', 'street_name_BEDOK RESERVOIR CRES', 'street_name_BEDOK RESERVOIR RD', 'street_name_BEDOK RESERVOIR VIEW', 'street_name_BEDOK STH AVE 1', 'street_name_BEDOK STH AVE 2', 'street_name_BEDOK STH AVE 3', 'street_name_BEDOK STH RD', 'street_name_BENDEMEER RD', 'street_name_BISHAN ST 11', 'street_name_BISHAN ST 12', 'street_name_BISHAN ST 13', 'street_name_BISHAN ST 22', 'street_name_BISHAN ST 23', 'street_name_BISHAN ST 24', 'street_name_BOON KENG RD', 'street_name_BOON LAY AVE', 'street_name_BOON LAY DR', 'street_name_BOON LAY PL', 'street_name_BOON TIONG RD', 'street_name_BT BATOK CTRL', 'street_name_BT BATOK EAST AVE 3', 'street_name_BT BATOK EAST AVE 4', 'street_name_BT BATOK EAST AVE 5', 'street_name_BT BATOK ST 11', 'street_name_BT BATOK ST 21', 'street_name_BT BATOK ST 22', 'street_name_BT BATOK ST 24', 'street_name_BT BATOK ST 25', 'street_name_BT BATOK ST 31', 'street_name_BT BATOK ST 33', 'street_name_BT BATOK ST 34', 'street_name_BT BATOK ST 52', 'street_name_BT BATOK WEST AVE 2', 'street_name_BT BATOK WEST AVE 4', 'street_name_BT BATOK WEST AVE 5', 'street_name_BT BATOK WEST AVE 6', 'street_name_BT MERAH VIEW', 'street_name_BT PANJANG RING RD', 'street_name_BT PURMEI RD', 'street_name_BUANGKOK CRES', 'street_name_BUFFALO RD', \"street_name_C'WEALTH CL\", \"street_name_C'WEALTH CRES\", \"street_name_C'WEALTH DR\", 'street_name_CANBERRA CRES', 'street_name_CANBERRA LINK', 'street_name_CANBERRA RD', 'street_name_CANBERRA ST', 'street_name_CANTONMENT CL', 'street_name_CANTONMENT RD', 'street_name_CASHEW RD', 'street_name_CASSIA CRES', 'street_name_CHAI CHEE AVE', 'street_name_CHAI CHEE RD', 'street_name_CHAI CHEE ST', 'street_name_CHOA CHU KANG AVE 1', 'street_name_CHOA CHU KANG AVE 2', 'street_name_CHOA CHU KANG AVE 3', 'street_name_CHOA CHU KANG AVE 4', 'street_name_CHOA CHU KANG AVE 5', 'street_name_CHOA CHU KANG AVE 7', 'street_name_CHOA CHU KANG CRES', 'street_name_CHOA CHU KANG CTRL', 'street_name_CHOA CHU KANG DR', 'street_name_CHOA CHU KANG LOOP', 'street_name_CHOA CHU KANG NTH 5', 'street_name_CHOA CHU KANG NTH 6', 'street_name_CHOA CHU KANG NTH 7', 'street_name_CHOA CHU KANG ST 51', 'street_name_CHOA CHU KANG ST 52', 'street_name_CHOA CHU KANG ST 53', 'street_name_CHOA CHU KANG ST 62', 'street_name_CHOA CHU KANG ST 64', 'street_name_CIRCUIT RD', 'street_name_CLARENCE LANE', 'street_name_CLEMENTI AVE 1', 'street_name_CLEMENTI AVE 2', 'street_name_CLEMENTI AVE 3', 'street_name_CLEMENTI AVE 4', 'street_name_CLEMENTI AVE 5', 'street_name_CLEMENTI AVE 6', 'street_name_CLEMENTI ST 13', 'street_name_CLEMENTI WEST ST 1', 'street_name_CLEMENTI WEST ST 2', 'street_name_COMPASSVALE BOW', 'street_name_COMPASSVALE CRES', 'street_name_COMPASSVALE DR', 'street_name_COMPASSVALE LANE', 'street_name_COMPASSVALE LINK', 'street_name_COMPASSVALE RD', 'street_name_COMPASSVALE ST', 'street_name_COMPASSVALE WALK', 'street_name_CORPORATION DR', 'street_name_DAKOTA CRES', 'street_name_DAWSON RD', 'street_name_DEPOT RD', 'street_name_DORSET RD', 'street_name_DOVER CRES', 'street_name_DOVER RD', 'street_name_EDGEDALE PLAINS', 'street_name_EDGEFIELD PLAINS', 'street_name_ELIAS RD', 'street_name_EMPRESS RD', 'street_name_EUNOS CRES', 'street_name_EUNOS RD 5', 'street_name_FAJAR RD', 'street_name_FARRER PK RD', 'street_name_FERNVALE LANE', 'street_name_FERNVALE LINK', 'street_name_FERNVALE RD', 'street_name_FERNVALE ST', 'street_name_GANGSA RD', 'street_name_GEYLANG BAHRU', 'street_name_GEYLANG EAST AVE 1', 'street_name_GEYLANG EAST CTRL', 'street_name_GEYLANG SERAI', 'street_name_GHIM MOH LINK', 'street_name_GHIM MOH RD', 'street_name_GLOUCESTER RD', 'street_name_HAIG RD', 'street_name_HAVELOCK RD', 'street_name_HENDERSON CRES', 'street_name_HENDERSON RD', 'street_name_HO CHING RD', 'street_name_HOLLAND AVE', 'street_name_HOLLAND CL', 'street_name_HOLLAND DR', 'street_name_HOUGANG AVE 1', 'street_name_HOUGANG AVE 10', 'street_name_HOUGANG AVE 2', 'street_name_HOUGANG AVE 3', 'street_name_HOUGANG AVE 4', 'street_name_HOUGANG AVE 5', 'street_name_HOUGANG AVE 6', 'street_name_HOUGANG AVE 7', 'street_name_HOUGANG AVE 8', 'street_name_HOUGANG AVE 9', 'street_name_HOUGANG CTRL', 'street_name_HOUGANG ST 11', 'street_name_HOUGANG ST 21', 'street_name_HOUGANG ST 22', 'street_name_HOUGANG ST 31', 'street_name_HOUGANG ST 32', 'street_name_HOUGANG ST 51', 'street_name_HOUGANG ST 52', 'street_name_HOUGANG ST 61', 'street_name_HOUGANG ST 91', 'street_name_HOUGANG ST 92', 'street_name_JELAPANG RD', 'street_name_JELEBU RD', 'street_name_JELLICOE RD', 'street_name_JLN BAHAGIA', 'street_name_JLN BATU', 'street_name_JLN BT HO SWEE', 'street_name_JLN BT MERAH', 'street_name_JLN DAMAI', 'street_name_JLN KLINIK', 'street_name_JLN MEMBINA', 'street_name_JLN RAJAH', 'street_name_JLN RUMAH TINGGI', 'street_name_JLN TECK WHYE', 'street_name_JLN TENAGA', 'street_name_JLN TENTERAM', 'street_name_JLN TIGA', 'street_name_JOO SENG RD', 'street_name_JURONG EAST AVE 1', 'street_name_JURONG EAST ST 13', 'street_name_JURONG EAST ST 21', 'street_name_JURONG EAST ST 24', 'street_name_JURONG EAST ST 31', 'street_name_JURONG EAST ST 32', 'street_name_JURONG WEST AVE 1', 'street_name_JURONG WEST AVE 3', 'street_name_JURONG WEST AVE 5', 'street_name_JURONG WEST CTRL 1', 'street_name_JURONG WEST CTRL 3', 'street_name_JURONG WEST ST 25', 'street_name_JURONG WEST ST 41', 'street_name_JURONG WEST ST 42', 'street_name_JURONG WEST ST 52', 'street_name_JURONG WEST ST 61', 'street_name_JURONG WEST ST 64', 'street_name_JURONG WEST ST 65', 'street_name_JURONG WEST ST 71', 'street_name_JURONG WEST ST 73', 'street_name_JURONG WEST ST 81', 'street_name_JURONG WEST ST 91', 'street_name_JURONG WEST ST 92', 'street_name_JURONG WEST ST 93', 'street_name_KALLANG BAHRU', 'street_name_KANG CHING RD', 'street_name_KEAT HONG CL', 'street_name_KEAT HONG LINK', 'street_name_KELANTAN RD', 'street_name_KG ARANG RD', 'street_name_KIM CHENG ST', 'street_name_KIM KEAT LINK', 'street_name_KIM TIAN RD', \"street_name_KING GEORGE'S AVE\", 'street_name_LENGKOK BAHRU', 'street_name_LENGKONG TIGA', 'street_name_LIM LIAK ST', 'street_name_LOR 1 TOA PAYOH', 'street_name_LOR 1A TOA PAYOH', 'street_name_LOR 2 TOA PAYOH', 'street_name_LOR 3 TOA PAYOH', 'street_name_LOR 4 TOA PAYOH', 'street_name_LOR 5 TOA PAYOH', 'street_name_LOR 7 TOA PAYOH', 'street_name_LOR 8 TOA PAYOH', 'street_name_LOR AH SOO', 'street_name_LOR LEW LIAN', 'street_name_MARINE CRES', 'street_name_MARINE DR', 'street_name_MARINE TER', 'street_name_MARSILING CRES', 'street_name_MARSILING DR', 'street_name_MARSILING LANE', 'street_name_MARSILING RD', 'street_name_MARSILING RISE', 'street_name_MCNAIR RD', 'street_name_MEI LING ST', 'street_name_MONTREAL DR', 'street_name_MONTREAL LINK', 'street_name_NEW UPP CHANGI RD', 'street_name_NTH BRIDGE RD', 'street_name_OLD AIRPORT RD', 'street_name_OWEN RD', 'street_name_PANDAN GDNS', 'street_name_PASIR RIS DR 1', 'street_name_PASIR RIS DR 10', 'street_name_PASIR RIS DR 3', 'street_name_PASIR RIS DR 4', 'street_name_PASIR RIS DR 6', 'street_name_PASIR RIS ST 11', 'street_name_PASIR RIS ST 12', 'street_name_PASIR RIS ST 13', 'street_name_PASIR RIS ST 21', 'street_name_PASIR RIS ST 41', 'street_name_PASIR RIS ST 51', 'street_name_PASIR RIS ST 53', 'street_name_PASIR RIS ST 71', 'street_name_PASIR RIS ST 72', 'street_name_PAYA LEBAR WAY', 'street_name_PENDING RD', 'street_name_PETIR RD', 'street_name_PINE CL', 'street_name_PIPIT RD', 'street_name_POTONG PASIR AVE 1', 'street_name_POTONG PASIR AVE 2', 'street_name_POTONG PASIR AVE 3', 'street_name_PUNGGOL CTRL', 'street_name_PUNGGOL DR', 'street_name_PUNGGOL EAST', 'street_name_PUNGGOL FIELD', 'street_name_PUNGGOL FIELD WALK', 'street_name_PUNGGOL PL', 'street_name_PUNGGOL RD', 'street_name_PUNGGOL WALK', 'street_name_PUNGGOL WAY', 'street_name_QUEEN ST', \"street_name_QUEEN'S CL\", \"street_name_QUEEN'S RD\", 'street_name_QUEENSWAY', 'street_name_RACE COURSE RD', 'street_name_REDHILL CL', 'street_name_RIVERVALE CRES', 'street_name_RIVERVALE DR', 'street_name_RIVERVALE ST', 'street_name_RIVERVALE WALK', 'street_name_ROWELL RD', 'street_name_SEGAR RD', 'street_name_SEMBAWANG CL', 'street_name_SEMBAWANG DR', 'street_name_SEMBAWANG VISTA', 'street_name_SENGKANG CTRL', 'street_name_SENGKANG EAST AVE', 'street_name_SENGKANG EAST WAY', 'street_name_SENGKANG WEST AVE', 'street_name_SENGKANG WEST WAY', 'street_name_SENJA LINK', 'street_name_SENJA RD', 'street_name_SERANGOON AVE 2', 'street_name_SERANGOON AVE 3', 'street_name_SERANGOON AVE 4', 'street_name_SERANGOON CTRL', 'street_name_SERANGOON CTRL DR', 'street_name_SERANGOON NTH AVE 1', 'street_name_SERANGOON NTH AVE 3', 'street_name_SERANGOON NTH AVE 4', 'street_name_SHUNFU RD', 'street_name_SIMEI LANE', 'street_name_SIMEI RD', 'street_name_SIMEI ST 1', 'street_name_SIMEI ST 2', 'street_name_SIMEI ST 4', 'street_name_SIMS DR', 'street_name_SIN MING AVE', 'street_name_SIN MING RD', \"street_name_ST. GEORGE'S LANE\", \"street_name_ST. GEORGE'S RD\", 'street_name_STIRLING RD', 'street_name_STRATHMORE AVE', 'street_name_SUMANG LANE', 'street_name_SUMANG LINK', 'street_name_SUMANG WALK', 'street_name_TAH CHING RD', 'street_name_TAMPINES AVE 1', 'street_name_TAMPINES AVE 4', 'street_name_TAMPINES AVE 5', 'street_name_TAMPINES AVE 7', 'street_name_TAMPINES AVE 8', 'street_name_TAMPINES AVE 9', 'street_name_TAMPINES CTRL 1', 'street_name_TAMPINES CTRL 7', 'street_name_TAMPINES CTRL 8', 'street_name_TAMPINES ST 11', 'street_name_TAMPINES ST 12', 'street_name_TAMPINES ST 21', 'street_name_TAMPINES ST 22', 'street_name_TAMPINES ST 23', 'street_name_TAMPINES ST 24', 'street_name_TAMPINES ST 32', 'street_name_TAMPINES ST 33', 'street_name_TAMPINES ST 34', 'street_name_TAMPINES ST 41', 'street_name_TAMPINES ST 42', 'street_name_TAMPINES ST 43', 'street_name_TAMPINES ST 44', 'street_name_TAMPINES ST 71', 'street_name_TAMPINES ST 72', 'street_name_TAMPINES ST 81', 'street_name_TAMPINES ST 82', 'street_name_TAMPINES ST 83', 'street_name_TAMPINES ST 84', 'street_name_TAMPINES ST 86', 'street_name_TAMPINES ST 91', 'street_name_TANGLIN HALT RD', 'street_name_TEBAN GDNS RD', 'street_name_TECK WHYE AVE', 'street_name_TECK WHYE LANE', 'street_name_TELOK BLANGAH CRES', 'street_name_TELOK BLANGAH DR', 'street_name_TELOK BLANGAH HTS', 'street_name_TELOK BLANGAH RISE', 'street_name_TG PAGAR PLAZA', 'street_name_TOA PAYOH CTRL', 'street_name_TOA PAYOH NTH', 'street_name_TOH GUAN RD', 'street_name_TOH YI DR', 'street_name_TOWNER RD', 'street_name_UBI AVE 1', 'street_name_UPP ALJUNIED LANE', 'street_name_UPP BOON KENG RD', 'street_name_UPP SERANGOON CRES', 'street_name_UPP SERANGOON RD', 'street_name_UPP SERANGOON VIEW', 'street_name_WELLINGTON CIRCLE', 'street_name_WEST COAST DR', 'street_name_WEST COAST RD', 'street_name_WHAMPOA DR', 'street_name_WHAMPOA WEST', 'street_name_WOODLANDS AVE 1', 'street_name_WOODLANDS AVE 4', 'street_name_WOODLANDS AVE 5', 'street_name_WOODLANDS AVE 6', 'street_name_WOODLANDS CIRCLE', 'street_name_WOODLANDS CRES', 'street_name_WOODLANDS DR 14', 'street_name_WOODLANDS DR 16', 'street_name_WOODLANDS DR 44', 'street_name_WOODLANDS DR 50', 'street_name_WOODLANDS DR 53', 'street_name_WOODLANDS DR 62', 'street_name_WOODLANDS DR 70', 'street_name_WOODLANDS DR 73', 'street_name_WOODLANDS DR 75', 'street_name_WOODLANDS RING RD', 'street_name_WOODLANDS ST 13', 'street_name_WOODLANDS ST 31', 'street_name_WOODLANDS ST 32', 'street_name_WOODLANDS ST 41', 'street_name_WOODLANDS ST 81', 'street_name_WOODLANDS ST 82', 'street_name_WOODLANDS ST 83', 'street_name_YISHUN AVE 1', 'street_name_YISHUN AVE 11', 'street_name_YISHUN AVE 3', 'street_name_YISHUN AVE 4', 'street_name_YISHUN AVE 5', 'street_name_YISHUN AVE 6', 'street_name_YISHUN AVE 7', 'street_name_YISHUN AVE 9', 'street_name_YISHUN CTRL', 'street_name_YISHUN CTRL 1', 'street_name_YISHUN RING RD', 'street_name_YISHUN ST 11', 'street_name_YISHUN ST 20', 'street_name_YISHUN ST 21', 'street_name_YISHUN ST 22', 'street_name_YISHUN ST 31', 'street_name_YISHUN ST 51', 'street_name_YISHUN ST 61', 'street_name_YISHUN ST 71', 'street_name_YISHUN ST 72', 'street_name_YISHUN ST 81', 'street_name_YUAN CHING RD', 'street_name_YUNG HO RD', 'street_name_YUNG KUANG RD', 'street_name_YUNG LOH RD', 'street_name_YUNG SHENG RD', 'storey_range_04 TO 06', 'storey_range_07 TO 09', 'storey_range_10 TO 12', 'storey_range_13 TO 15', 'storey_range_16 TO 18', 'storey_range_19 TO 21', 'storey_range_22 TO 24', 'storey_range_25 TO 27', 'storey_range_28 TO 30', 'storey_range_31 TO 33', 'storey_range_34 TO 36', 'storey_range_37 TO 39', 'storey_range_40 TO 42', 'storey_range_43 TO 45', 'storey_range_49 TO 51', 'flat_model_Apartment', 'flat_model_DBSS', 'flat_model_Improved', 'flat_model_Maisonette', 'flat_model_Model A', 'flat_model_Model A-Maisonette', 'flat_model_Model A2', 'flat_model_Multi Generation', 'flat_model_New Generation', 'flat_model_Premium Apartment', 'flat_model_Premium Apartment Loft', 'flat_model_Simplified', 'flat_model_Standard', 'flat_model_Type S1', 'flat_model_Type S2']\n"
     ]
    }
   ],
   "source": [
    "# 2. Transformation des variables catégorielles\n",
    "# Sélectionner les colonnes catégorielles\n",
    "categorical_columns = df_imputed.select_dtypes(include=['object']).columns.tolist()\n",
    "\n",
    "# Affichage des colonnes catégorielles avant la transformation\n",
    "print(\"Colonnes catégorielles avant transformation :\")\n",
    "print(categorical_columns)\n",
    "\n",
    "# Exclure 'remaining_lease' car c'est une variable numérique après transformation\n",
    "categorical_columns.remove('remaining_lease')\n",
    "\n",
    "# Appliquer la transformation en variables numériques (dummy variables)\n",
    "df_encoded = pd.get_dummies(df_imputed, columns=categorical_columns, drop_first=True)\n",
    "\n",
    "# Affichage des colonnes après transformation\n",
    "print(\"\\nColonnes après transformation (dummies) :\")\n",
    "print(df_encoded.columns.tolist())\n"
   ]
  },
  {
   "cell_type": "code",
   "execution_count": 6,
   "metadata": {
    "colab": {
     "base_uri": "https://localhost:8080/"
    },
    "id": "jZyM3Kb4PPpT",
    "outputId": "573a751a-366d-4468-d3b1-71f78a515e18"
   },
   "outputs": [
    {
     "name": "stdout",
     "output_type": "stream",
     "text": [
      "Aperçu de la colonne 'lease_commence_date' avant transformation :\n",
      "0    1977.0\n",
      "1    1977.0\n",
      "2    1978.0\n",
      "3    1981.0\n",
      "4    1980.0\n",
      "Name: lease_commence_date, dtype: float64\n",
      "\n",
      "Aperçu des nouvelles colonnes extraites (year, month_date, day) :\n",
      "   year  month_date  day\n",
      "0  1970           1    1\n",
      "1  1970           1    1\n",
      "2  1970           1    1\n",
      "3  1970           1    1\n",
      "4  1970           1    1\n",
      "\n",
      "Aperçu du DataFrame après suppression de 'lease_commence_date' :\n",
      "   floor_area_sqm  resale_price     remaining_lease  town_BEDOK  town_BISHAN  \\\n",
      "0            44.0      245000.0  54 years 05 months       False        False   \n",
      "1            73.0      358000.0  54 years 05 months       False        False   \n",
      "2            67.0      355000.0   55 years 01 month       False        False   \n",
      "3            68.0      338000.0            58 years       False        False   \n",
      "4            82.0      420000.0  57 years 02 months       False        False   \n",
      "\n",
      "   town_BUKIT BATOK  town_BUKIT MERAH  town_BUKIT PANJANG  town_BUKIT TIMAH  \\\n",
      "0             False             False               False             False   \n",
      "1             False             False               False             False   \n",
      "2             False             False               False             False   \n",
      "3             False             False               False             False   \n",
      "4             False             False               False             False   \n",
      "\n",
      "   town_CENTRAL AREA  ...  flat_model_New Generation  \\\n",
      "0              False  ...                      False   \n",
      "1              False  ...                       True   \n",
      "2              False  ...                       True   \n",
      "3              False  ...                       True   \n",
      "4              False  ...                       True   \n",
      "\n",
      "   flat_model_Premium Apartment  flat_model_Premium Apartment Loft  \\\n",
      "0                         False                              False   \n",
      "1                         False                              False   \n",
      "2                         False                              False   \n",
      "3                         False                              False   \n",
      "4                         False                              False   \n",
      "\n",
      "   flat_model_Simplified  flat_model_Standard  flat_model_Type S1  \\\n",
      "0                  False                False               False   \n",
      "1                  False                False               False   \n",
      "2                  False                False               False   \n",
      "3                  False                False               False   \n",
      "4                  False                False               False   \n",
      "\n",
      "   flat_model_Type S2  year  month_date  day  \n",
      "0               False  1970           1    1  \n",
      "1               False  1970           1    1  \n",
      "2               False  1970           1    1  \n",
      "3               False  1970           1    1  \n",
      "4               False  1970           1    1  \n",
      "\n",
      "[5 rows x 1764 columns]\n"
     ]
    }
   ],
   "source": [
    "# 3. Transformation de la colonne 'lease_commence_date'\n",
    "# Affichage de la colonne 'lease_commence_date' avant transformation\n",
    "print(\"Aperçu de la colonne 'lease_commence_date' avant transformation :\")\n",
    "print(df_encoded['lease_commence_date'].head())\n",
    "\n",
    "# Conversion de la colonne 'lease_commence_date' en format datetime\n",
    "df_encoded['lease_commence_date'] = pd.to_datetime(df_encoded['lease_commence_date'], errors='coerce')\n",
    "\n",
    "# Extraction des informations de l'année, du mois et du jour\n",
    "df_encoded['year'] = df_encoded['lease_commence_date'].dt.year\n",
    "df_encoded['month_date'] = df_encoded['lease_commence_date'].dt.month\n",
    "df_encoded['day'] = df_encoded['lease_commence_date'].dt.day\n",
    "\n",
    "# Affichage des nouvelles colonnes extraites\n",
    "print(\"\\nAperçu des nouvelles colonnes extraites (year, month_date, day) :\")\n",
    "print(df_encoded[['year', 'month_date', 'day']].head())\n",
    "\n",
    "# Suppression de la colonne 'lease_commence_date' d'origine\n",
    "df_encoded = df_encoded.drop(columns=['lease_commence_date'])\n",
    "\n",
    "# Affichage du DataFrame après suppression de la colonne 'lease_commence_date'\n",
    "print(\"\\nAperçu du DataFrame après suppression de 'lease_commence_date' :\")\n",
    "print(df_encoded.head())\n"
   ]
  },
  {
   "cell_type": "code",
   "execution_count": 7,
   "metadata": {
    "colab": {
     "base_uri": "https://localhost:8080/"
    },
    "id": "y3wI2amGSvkx",
    "outputId": "735079bb-5671-4fdd-d9ca-2ce746d6ede0"
   },
   "outputs": [
    {
     "name": "stdout",
     "output_type": "stream",
     "text": [
      "Aperçu de la colonne 'remaining_lease' avant transformation :\n",
      "0    54 years 05 months\n",
      "1    54 years 05 months\n",
      "2     55 years 01 month\n",
      "3              58 years\n",
      "4    57 years 02 months\n",
      "Name: remaining_lease, dtype: object\n",
      "\n",
      "Aperçu des nouvelles colonnes 'remaining_lease_years' après transformation :\n",
      "   remaining_lease_years\n",
      "0              58.500000\n",
      "1              58.500000\n",
      "2              59.583333\n",
      "3              62.833333\n",
      "4              61.750000\n",
      "\n",
      "Aperçu du DataFrame après suppression de 'remaining_lease' :\n",
      "   floor_area_sqm  resale_price  town_BEDOK  town_BISHAN  town_BUKIT BATOK  \\\n",
      "0            44.0      245000.0       False        False             False   \n",
      "1            73.0      358000.0       False        False             False   \n",
      "2            67.0      355000.0       False        False             False   \n",
      "3            68.0      338000.0       False        False             False   \n",
      "4            82.0      420000.0       False        False             False   \n",
      "\n",
      "   town_BUKIT MERAH  town_BUKIT PANJANG  town_BUKIT TIMAH  town_CENTRAL AREA  \\\n",
      "0             False               False             False              False   \n",
      "1             False               False             False              False   \n",
      "2             False               False             False              False   \n",
      "3             False               False             False              False   \n",
      "4             False               False             False              False   \n",
      "\n",
      "   town_CHOA CHU KANG  ...  flat_model_Premium Apartment Loft  \\\n",
      "0               False  ...                              False   \n",
      "1               False  ...                              False   \n",
      "2               False  ...                              False   \n",
      "3               False  ...                              False   \n",
      "4               False  ...                              False   \n",
      "\n",
      "   flat_model_Simplified  flat_model_Standard  flat_model_Type S1  \\\n",
      "0                  False                False               False   \n",
      "1                  False                False               False   \n",
      "2                  False                False               False   \n",
      "3                  False                False               False   \n",
      "4                  False                False               False   \n",
      "\n",
      "   flat_model_Type S2  year  month_date  day  remaining_lease_years  \\\n",
      "0               False  1970           1    1              58.500000   \n",
      "1               False  1970           1    1              58.500000   \n",
      "2               False  1970           1    1              59.583333   \n",
      "3               False  1970           1    1              62.833333   \n",
      "4               False  1970           1    1              61.750000   \n",
      "\n",
      "   remaining_lease_months  \n",
      "0                    54.0  \n",
      "1                    54.0  \n",
      "2                    55.0  \n",
      "3                    58.0  \n",
      "4                    57.0  \n",
      "\n",
      "[5 rows x 1765 columns]\n"
     ]
    }
   ],
   "source": [
    "# 4. Conversion de 'remaining_lease' en nombre d'années restantes\n",
    "# Affichage de la colonne 'remaining_lease' avant transformation\n",
    "print(\"Aperçu de la colonne 'remaining_lease' avant transformation :\")\n",
    "print(df_encoded['remaining_lease'].head())\n",
    "\n",
    "# Extraction des années et des mois de la colonne 'remaining_lease'\n",
    "df_encoded['remaining_lease_years'] = df_encoded['remaining_lease'].str.extract('(\\d+)').astype(float)\n",
    "df_encoded['remaining_lease_months'] = df_encoded['remaining_lease'].str.extract('(\\d+)(?= years)').astype(float)\n",
    "\n",
    "# Conversion en années restantes\n",
    "df_encoded['remaining_lease_years'] = df_encoded['remaining_lease_years'] + df_encoded['remaining_lease_months'] / 12\n",
    "\n",
    "# Affichage des nouvelles colonnes créées pour les années et mois restants\n",
    "print(\"\\nAperçu des nouvelles colonnes 'remaining_lease_years' après transformation :\")\n",
    "print(df_encoded[['remaining_lease_years']].head())\n",
    "\n",
    "# Suppression de la colonne 'remaining_lease' d'origine\n",
    "df_encoded = df_encoded.drop(columns=['remaining_lease'])\n",
    "\n",
    "# Affichage du DataFrame après suppression de la colonne 'remaining_lease'\n",
    "print(\"\\nAperçu du DataFrame après suppression de 'remaining_lease' :\")\n",
    "print(df_encoded.head())\n"
   ]
  },
  {
   "cell_type": "code",
   "execution_count": 8,
   "metadata": {
    "colab": {
     "base_uri": "https://localhost:8080/"
    },
    "id": "24paVT-IPWjN",
    "outputId": "d251aabb-a3f5-4861-a4cb-ce3241433dc7"
   },
   "outputs": [
    {
     "name": "stdout",
     "output_type": "stream",
     "text": [
      "Colonnes numériques détectées automatiquement : ['floor_area_sqm', 'remaining_lease_years', 'remaining_lease_months']\n"
     ]
    }
   ],
   "source": [
    "# 5. Normalisation des variables numériques\n",
    "numerical_columns = df_encoded.select_dtypes(include=['int64', 'float64']).columns.tolist()\n",
    "numerical_columns.remove('resale_price')  # Exclure la cible 'resale_price'\n",
    "print(f\"Colonnes numériques détectées automatiquement : {numerical_columns}\")\n",
    "\n",
    "scaler = StandardScaler()\n",
    "df_encoded[numerical_columns] = scaler.fit_transform(df_encoded[numerical_columns])\n"
   ]
  },
  {
   "cell_type": "markdown",
   "metadata": {
    "id": "7GNf5f1EpLEs"
   },
   "source": [
    "- Le random_state=42 garantit que la séparation reste identique à chaque exécution\n",
    "\n",
    "- Le paramètre random_state=42 garantit que la division des données entre ensemble d'entraînement et de test reste identique à chaque exécution du code, même si elle est aléatoire. Cela permet de reproduire les mêmes résultats pour des analyses ou tests comparatifs."
   ]
  },
  {
   "cell_type": "markdown",
   "metadata": {
    "id": "3qdfHG0ikFQw"
   },
   "source": []
  },
  {
   "cell_type": "code",
   "execution_count": 9,
   "metadata": {
    "colab": {
     "base_uri": "https://localhost:8080/"
    },
    "id": "AGD_hUJraomE",
    "outputId": "d2055caa-1971-43dd-929d-22fca2cad158"
   },
   "outputs": [
    {
     "name": "stdout",
     "output_type": "stream",
     "text": [
      "Taille de l'ensemble d'entraînement : 1953 échantillons\n",
      "Taille de l'ensemble de test : 489 échantillons\n",
      "\n",
      "Aperçu après traitement des données:\n",
      "   floor_area_sqm  resale_price  town_BEDOK  town_BISHAN  town_BUKIT BATOK  \\\n",
      "0       -2.249380      245000.0       False        False             False   \n",
      "1       -1.018207      358000.0       False        False             False   \n",
      "2       -1.272932      355000.0       False        False             False   \n",
      "3       -1.230478      338000.0       False        False             False   \n",
      "4       -0.636118      420000.0       False        False             False   \n",
      "\n",
      "   town_BUKIT MERAH  town_BUKIT PANJANG  town_BUKIT TIMAH  town_CENTRAL AREA  \\\n",
      "0             False               False             False              False   \n",
      "1             False               False             False              False   \n",
      "2             False               False             False              False   \n",
      "3             False               False             False              False   \n",
      "4             False               False             False              False   \n",
      "\n",
      "   town_CHOA CHU KANG  ...  flat_model_Premium Apartment Loft  \\\n",
      "0               False  ...                              False   \n",
      "1               False  ...                              False   \n",
      "2               False  ...                              False   \n",
      "3               False  ...                              False   \n",
      "4               False  ...                              False   \n",
      "\n",
      "   flat_model_Simplified  flat_model_Standard  flat_model_Type S1  \\\n",
      "0                  False                False               False   \n",
      "1                  False                False               False   \n",
      "2                  False                False               False   \n",
      "3                  False                False               False   \n",
      "4                  False                False               False   \n",
      "\n",
      "   flat_model_Type S2  year  month_date  day  remaining_lease_years  \\\n",
      "0               False  1970           1    1              -1.395979   \n",
      "1               False  1970           1    1              -1.395979   \n",
      "2               False  1970           1    1              -1.326812   \n",
      "3               False  1970           1    1              -1.119310   \n",
      "4               False  1970           1    1              -1.188477   \n",
      "\n",
      "   remaining_lease_months  \n",
      "0               -1.395979  \n",
      "1               -1.395979  \n",
      "2               -1.326812  \n",
      "3               -1.119310  \n",
      "4               -1.188477  \n",
      "\n",
      "[5 rows x 1765 columns]\n"
     ]
    }
   ],
   "source": [
    "# 6. Division des données\n",
    "X = df_encoded.drop(columns=['resale_price'])\n",
    "y = df_encoded['resale_price']\n",
    "X_train, X_test, y_train, y_test = train_test_split(X, y, test_size=0.2, random_state=42)\n",
    "\n",
    "print(f\"Taille de l'ensemble d'entraînement : {X_train.shape[0]} échantillons\")\n",
    "print(f\"Taille de l'ensemble de test : {X_test.shape[0]} échantillons\")\n",
    "\n",
    "# 7. Vérification finale\n",
    "print(\"\\nAperçu après traitement des données:\")\n",
    "print(df_encoded.head())"
   ]
  },
  {
   "cell_type": "code",
   "execution_count": 10,
   "metadata": {
    "colab": {
     "base_uri": "https://localhost:8080/",
     "height": 111
    },
    "id": "-PNqUCqqm18Z",
    "outputId": "52428d2b-28f8-482c-9fa3-5a85484a33d3"
   },
   "outputs": [],
   "source": [
    "#Sauvegarder les données prétraitées dans le notebook 2\n",
    "df.to_csv('preprocessed_data.csv', index=False)\n"
   ]
  },
  {
   "cell_type": "code",
   "execution_count": null,
   "metadata": {
    "id": "434Q5KFa9BL3"
   },
   "outputs": [],
   "source": []
  }
 ],
 "metadata": {
  "colab": {
   "provenance": []
  },
  "kernelspec": {
   "display_name": ".venv",
   "language": "python",
   "name": "python3"
  },
  "language_info": {
   "codemirror_mode": {
    "name": "ipython",
    "version": 3
   },
   "file_extension": ".py",
   "mimetype": "text/x-python",
   "name": "python",
   "nbconvert_exporter": "python",
   "pygments_lexer": "ipython3",
   "version": "3.11.8"
  }
 },
 "nbformat": 4,
 "nbformat_minor": 0
}
